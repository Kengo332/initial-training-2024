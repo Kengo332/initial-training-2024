{
 "cells": [
  {
   "attachments": {},
   "cell_type": "markdown",
   "metadata": {
    "colab_type": "text",
    "id": "3-ewqmV8hszX"
   },
   "source": [
    "# NumPy, Matplotlib を用いた初等数学の復習\n",
    "\n",
    "本章では、数学の基礎的な事項を復習しながら、Python で数値計算を高速に行うためのライブラリ（[注釈1](#note1)）である NumPy と， グラフの描画を行うためのライブラリである Matplotlib の使い方を学びます。\n",
    "\n",
    "NumPy による**多次元配列（multidimensional array）**の扱い方を知ることは、他の様々なライブラリを利用する際に役立ちます。\n",
    "例えば、様々な機械学習手法を統一的なインターフェースで利用できる **scikit-learn** や、ニューラルネットワークの記述・学習を行うためのフレームワークである **PyTorch** は、NumPy に慣れておくことでとても使いやすくなります。\n",
    "\n",
    "それでは、まず NumPy の基礎的な使用方法を説明します。\n"
   ]
  },
  {
   "attachments": {},
   "cell_type": "markdown",
   "metadata": {
    "colab_type": "text",
    "id": "iPmvXIQThszZ"
   },
   "source": [
    "## NumPy と Matplotlib を使う準備\n",
    "\n",
    "NumPy や Matplotlib などのライブラリを利用する際には、仮想環境上にこれらをインストールする必要があります。\n",
    "NumPy と Matplotlib をインストールするためには、仮想環境が有効化されている状態で以下のコマンドを実行します。\n",
    "```\n",
    "$ pip install numpy matplotlib\n",
    "```\n",
    "\n",
    "`pip` コマンドは Python ライブラリをインストールするためのコマンドであり、NumPy や Matplotlib 以外にも以下の構文を用いて様々なライブラリをインストールできます。\n",
    "```\n",
    "$ pip install <ライブラリ名>\n",
    "```\n",
    "今後、他のライブラリが必要となった際には、このコマンドを用いてインストールを行います．\n",
    "\n",
    "以上の操作で NumPy と Matplotlib のインストール作業は完了したものの、これだけではライブラリの機能を利用することができません。\n",
    "ライブラリの機能を利用するには、そのライブラリが提供するモジュールを読み込む必要があります。\n",
    "\n",
    "例えば `A` というモジュールを読み込みたいとき、一番シンプルな記述方法は `import A` です。\n",
    "ただ、もし `A` というモジュール名が長い場合は、`import A as B` のようにして別名を付けることができます。\n",
    "`as` を使って別名が与えられると、以降そのモジュールはその別名を用いて利用することができます。\n",
    "`import A as B` と書くと、`A` というモジュールは `B` という名前で利用することができます。\n",
    "これは Python の機能なので NumPy 以外のモジュールを読み込みたい場合にも使用可能です。\n",
    "\n",
    "慣習的に、`numpy` にはしばしば `np` という別名が与えられます。\n",
    "コード中で頻繁に使用するモジュールには、短い別名をつけて定義することがよく行われます。\n",
    "\n",
    "それでは、`python` コマンドを実行して対話型インタプリタを起動し、 `numpy` を `np` という名前で `import` してみましょう。"
   ]
  },
  {
   "cell_type": "code",
   "execution_count": 2,
   "metadata": {
    "colab": {},
    "colab_type": "code",
    "id": "YGm0nN_vuWfY"
   },
   "outputs": [],
   "source": [
    "import numpy as np"
   ]
  },
  {
   "attachments": {},
   "cell_type": "markdown",
   "metadata": {
    "colab_type": "text",
    "id": "SB5_Yx1qXAcN"
   },
   "source": [
    "## 多次元配列を定義する\n",
    "\n",
    "このあとの例で見ていくように、関数のグラフを描画したりする際には、入力変数を様々に変化させながら出力変数を計算する必要があります。\n",
    "このようにたくさんの数を同時に扱う際、プログラミング上は多次元配列を用いることが便利です．\n",
    "NumPy では ndarray というクラスで多次元配列を表現します（[注釈2](#note2)）。\n",
    "早速、これを用いて1次元配列を定義してみましょう。"
   ]
  },
  {
   "cell_type": "code",
   "execution_count": 2,
   "metadata": {
    "colab": {
     "base_uri": "https://localhost:8080/",
     "height": 35
    },
    "colab_type": "code",
    "id": "HTartJBpvinm",
    "outputId": "0731ea56-3ac2-4ec5-c073-69a029d6d2c3"
   },
   "outputs": [
    {
     "data": {
      "text/plain": [
       "array([1, 2, 3])"
      ]
     },
     "execution_count": 2,
     "metadata": {
      "tags": []
     },
     "output_type": "execute_result"
    }
   ],
   "source": [
    "# 1次元配列の定義\n",
    "a = np.array([1, 2, 3])\n",
    "\n",
    "a"
   ]
  },
  {
   "attachments": {},
   "cell_type": "markdown",
   "metadata": {
    "colab_type": "text",
    "id": "LCbcrkX6hszo"
   },
   "source": [
    "このように、Python リスト `[1, 2, 3]` を `np.array()` に渡すことで、$[1, 2, 3]$ という配列を表す ndarray オブジェクトを作ることができます。\n",
    "ndarray オブジェクトは `shape` という**属性 （attribute）** を持っており、その多次元配列の**形 （shape）** が保存されています。\n",
    "上で定義した `a` という ndarray オブジェクトの形を調べてみましょう。"
   ]
  },
  {
   "cell_type": "code",
   "execution_count": 3,
   "metadata": {
    "colab": {
     "base_uri": "https://localhost:8080/",
     "height": 35
    },
    "colab_type": "code",
    "id": "O2GmnrGVhszq",
    "outputId": "b3cf41ce-66f9-434a-9082-22af7ed8ff9c"
   },
   "outputs": [
    {
     "data": {
      "text/plain": [
       "(3,)"
      ]
     },
     "execution_count": 3,
     "metadata": {
      "tags": []
     },
     "output_type": "execute_result"
    }
   ],
   "source": [
    "a.shape"
   ]
  },
  {
   "attachments": {},
   "cell_type": "markdown",
   "metadata": {
    "colab_type": "text",
    "id": "YlU3JFZVhszw"
   },
   "source": [
    "`(3,)` という要素数が 1 の Python のタプルが表示されています。\n",
    "ndarray の形は、要素が整数のタプルで表され、要素数はその多次元配列の**次元数 （dimensionality, number of dimensions）** を表します。\n",
    "形は、その多次元配列の各次元の大きさを順に並べた整数のタプルになっています。\n",
    "\n",
    "次元数は、ndarray の `ndim` という属性に保存されています。"
   ]
  },
  {
   "cell_type": "code",
   "execution_count": null,
   "metadata": {
    "colab": {
     "base_uri": "https://localhost:8080/",
     "height": 35
    },
    "colab_type": "code",
    "id": "TClptSKihszx",
    "outputId": "1a22e147-f5cb-4cca-d586-351891bef7dc"
   },
   "outputs": [
    {
     "data": {
      "text/plain": [
       "1"
      ]
     },
     "execution_count": 4,
     "metadata": {
      "tags": []
     },
     "output_type": "execute_result"
    }
   ],
   "source": [
    "a.ndim"
   ]
  },
  {
   "attachments": {},
   "cell_type": "markdown",
   "metadata": {
    "colab_type": "text",
    "id": "ALEfYmAuhsz1"
   },
   "source": [
    "これは、`len(a.shape)` と同じ値になります。\n",
    "今、`a` という ndarray は 1 次元配列なので、`a.shape` は要素数が 1 のタプルで、`ndim` の値は 1 でした（[注釈3](#note3)）。"
   ]
  },
  {
   "attachments": {},
   "cell_type": "markdown",
   "metadata": {
    "colab_type": "text",
    "id": "oQcB5yZvhsz2"
   },
   "source": [
    "では次に、数を縦横方向に3つずつ並べた2次元配列を定義してみましょう。"
   ]
  },
  {
   "cell_type": "code",
   "execution_count": null,
   "metadata": {
    "colab": {
     "base_uri": "https://localhost:8080/",
     "height": 70
    },
    "colab_type": "code",
    "id": "u3MkTwo0jM1y",
    "outputId": "daed274d-9d7f-43b4-9b3b-3f729ce821ad"
   },
   "outputs": [
    {
     "data": {
      "text/plain": [
       "array([[1, 2, 3],\n",
       "       [4, 5, 6],\n",
       "       [7, 8, 9]])"
      ]
     },
     "execution_count": 5,
     "metadata": {
      "tags": []
     },
     "output_type": "execute_result"
    }
   ],
   "source": [
    "# 2次元配列の定義\n",
    "b = np.array(\n",
    "    [[1, 2, 3],\n",
    "     [4, 5, 6],\n",
    "     [7, 8, 9]]\n",
    ")\n",
    "\n",
    "print(b)"
   ]
  },
  {
   "attachments": {},
   "cell_type": "markdown",
   "metadata": {
    "colab_type": "text",
    "id": "NEZor0zths0B"
   },
   "source": [
    "形と次元数を調べます。"
   ]
  },
  {
   "cell_type": "code",
   "execution_count": 6,
   "metadata": {
    "colab": {
     "base_uri": "https://localhost:8080/",
     "height": 52
    },
    "colab_type": "code",
    "id": "VdoPp_H3hs0C",
    "outputId": "d326c3de-28b0-40ba-d594-ff6befef3ceb"
   },
   "outputs": [
    {
     "name": "stdout",
     "output_type": "stream",
     "text": [
      "Shape: (3, 3)\n",
      "Rank: 2\n"
     ]
    }
   ],
   "source": [
    "print('Shape:', b.shape)\n",
    "print('Rank:', b.ndim)"
   ]
  },
  {
   "attachments": {},
   "cell_type": "markdown",
   "metadata": {
    "colab_type": "text",
    "id": "GRcKmhhRhs0G"
   },
   "source": [
    "ここで、`size` という属性も見てみましょう。"
   ]
  },
  {
   "cell_type": "code",
   "execution_count": 7,
   "metadata": {
    "colab": {
     "base_uri": "https://localhost:8080/",
     "height": 35
    },
    "colab_type": "code",
    "id": "nL7kUxyThs0H",
    "outputId": "a5a99a98-b7a6-4ff4-f71e-841259bf2801"
   },
   "outputs": [
    {
     "data": {
      "text/plain": [
       "9"
      ]
     },
     "execution_count": 7,
     "metadata": {
      "tags": []
     },
     "output_type": "execute_result"
    }
   ],
   "source": [
    "b.size"
   ]
  },
  {
   "attachments": {},
   "cell_type": "markdown",
   "metadata": {
    "colab_type": "text",
    "id": "6qHL5knGhs0L"
   },
   "source": [
    "これは、`b` という ndarray が持つ要素の数を表しています。\n",
    "`b` は $3 \\times 3$ 行列なので、要素数は 9 です。\n",
    "**「形」「次元数」「サイズ」という言葉がそれぞれ意味するものの違いを確認してください。**\n",
    "\n",
    "NumPy の ndarray の作成方法には、`np.array()` を用いて Python のリストから多次元配列を作る方法以外にも、色々な方法があります。\n",
    "以下に代表的な例をいくつか紹介します。"
   ]
  },
  {
   "cell_type": "code",
   "execution_count": 8,
   "metadata": {
    "colab": {
     "base_uri": "https://localhost:8080/",
     "height": 70
    },
    "colab_type": "code",
    "id": "-E2Rtwq9hs0N",
    "outputId": "8a89d4fb-508c-4328-8001-6837b331eed2"
   },
   "outputs": [
    {
     "data": {
      "text/plain": [
       "array([[0., 0., 0.],\n",
       "       [0., 0., 0.],\n",
       "       [0., 0., 0.]])"
      ]
     },
     "execution_count": 8,
     "metadata": {
      "tags": []
     },
     "output_type": "execute_result"
    }
   ],
   "source": [
    "# 形を指定して、要素が全て 0 で埋められた ndarray を作る\n",
    "a = np.zeros((3, 3))\n",
    "\n",
    "a"
   ]
  },
  {
   "cell_type": "code",
   "execution_count": 9,
   "metadata": {
    "colab": {
     "base_uri": "https://localhost:8080/",
     "height": 52
    },
    "colab_type": "code",
    "id": "870IpdMyhs0R",
    "outputId": "b45b6bf4-22b8-495f-c15f-6e6467ef6fb9"
   },
   "outputs": [
    {
     "data": {
      "text/plain": [
       "array([[1., 1., 1.],\n",
       "       [1., 1., 1.]])"
      ]
     },
     "execution_count": 9,
     "metadata": {
      "tags": []
     },
     "output_type": "execute_result"
    }
   ],
   "source": [
    "# 形を指定して、要素が全て 1 で埋められた ndarray を作る\n",
    "b = np.ones((2, 3))\n",
    "\n",
    "b"
   ]
  },
  {
   "cell_type": "code",
   "execution_count": 10,
   "metadata": {
    "colab": {
     "base_uri": "https://localhost:8080/",
     "height": 70
    },
    "colab_type": "code",
    "id": "xndboQKyhs0W",
    "outputId": "1371ef3d-043c-48dc-de8c-6d8d05f9cfdf"
   },
   "outputs": [
    {
     "data": {
      "text/plain": [
       "array([[9, 9],\n",
       "       [9, 9],\n",
       "       [9, 9]])"
      ]
     },
     "execution_count": 10,
     "metadata": {
      "tags": []
     },
     "output_type": "execute_result"
    }
   ],
   "source": [
    "# 形と値を指定して、要素が指定した値で埋められた ndarray を作る\n",
    "c = np.full((3, 2), 9)\n",
    "\n",
    "c"
   ]
  },
  {
   "cell_type": "code",
   "execution_count": 11,
   "metadata": {
    "colab": {
     "base_uri": "https://localhost:8080/",
     "height": 106
    },
    "colab_type": "code",
    "id": "WA5IUfrmhs0b",
    "outputId": "b3162424-a0a9-4110-dc3b-cb291a90ac91"
   },
   "outputs": [
    {
     "data": {
      "text/plain": [
       "array([[1., 0., 0., 0., 0.],\n",
       "       [0., 1., 0., 0., 0.],\n",
       "       [0., 0., 1., 0., 0.],\n",
       "       [0., 0., 0., 1., 0.],\n",
       "       [0., 0., 0., 0., 1.]])"
      ]
     },
     "execution_count": 11,
     "metadata": {
      "tags": []
     },
     "output_type": "execute_result"
    }
   ],
   "source": [
    "# 指定された大きさの単位行列を表す ndarray を作る\n",
    "d = np.eye(5)\n",
    "\n",
    "d"
   ]
  },
  {
   "cell_type": "code",
   "execution_count": 12,
   "metadata": {
    "colab": {
     "base_uri": "https://localhost:8080/",
     "height": 88
    },
    "colab_type": "code",
    "id": "YLH4LMVThs0h",
    "outputId": "97b95b3c-ace3-4caf-ec13-d4e01d5d3c7d",
    "scrolled": true
   },
   "outputs": [
    {
     "data": {
      "text/plain": [
       "array([[0.945015  , 0.43016639, 0.29548392, 0.95129474, 0.79083349],\n",
       "       [0.38302104, 0.81301269, 0.89543488, 0.98794199, 0.07312155],\n",
       "       [0.28104454, 0.05910526, 0.82286822, 0.80324149, 0.34598631],\n",
       "       [0.27901198, 0.99971565, 0.80767343, 0.8232321 , 0.53487828]])"
      ]
     },
     "execution_count": 12,
     "metadata": {
      "tags": []
     },
     "output_type": "execute_result"
    }
   ],
   "source": [
    "# 形を指定して、 0 ~ 1 の間の乱数で要素を埋めた ndarray を作る\n",
    "e = np.random.random((4, 5))\n",
    "\n",
    "e"
   ]
  },
  {
   "cell_type": "code",
   "execution_count": 13,
   "metadata": {
    "colab": {
     "base_uri": "https://localhost:8080/",
     "height": 35
    },
    "colab_type": "code",
    "id": "JrlPdcOths0r",
    "outputId": "016d37ff-60d6-4aa1-cdb2-ad58154e10fe"
   },
   "outputs": [
    {
     "data": {
      "text/plain": [
       "array([3, 4, 5, 6, 7, 8, 9])"
      ]
     },
     "execution_count": 13,
     "metadata": {
      "tags": []
     },
     "output_type": "execute_result"
    }
   ],
   "source": [
    "# 3 から始まり 10 になるまで 1 ずつ増加する数列を作る（10 は含まない）\n",
    "f = np.arange(3, 10, 1)\n",
    "\n",
    "f"
   ]
  },
  {
   "attachments": {},
   "cell_type": "markdown",
   "metadata": {
    "colab_type": "text",
    "id": "1rPZMxVIhs0w"
   },
   "source": [
    "## 多次元配列の要素を選択する\n",
    "\n",
    "前節では NumPy を使って多次元配列を定義するいくつかの方法を紹介しました。\n",
    "本節では、作成した ndarray のうちの特定の要素を選択して、値を取り出す方法を紹介します。\n",
    "最もよく行われる方法は `[]` を使った**添字表記 （subscription）** による要素の選択です。"
   ]
  },
  {
   "attachments": {},
   "cell_type": "markdown",
   "metadata": {
    "colab_type": "text",
    "id": "yjqfy8AVhs0x"
   },
   "source": [
    "### 整数による要素の選択\n",
    "\n",
    "例えば、上で作成した `e` という $4 \\times 5$ 行列を表す多次元配列から、1 行 2 列目の値を取り出すには、以下のようにします。"
   ]
  },
  {
   "cell_type": "code",
   "execution_count": 14,
   "metadata": {
    "colab": {
     "base_uri": "https://localhost:8080/",
     "height": 35
    },
    "colab_type": "code",
    "id": "4wXjOOjyhs0y",
    "outputId": "6581d4a6-dc3c-46a5-cc00-c91923b2e7a4",
    "scrolled": true
   },
   "outputs": [
    {
     "data": {
      "text/plain": [
       "0.43016638598041224"
      ]
     },
     "execution_count": 14,
     "metadata": {
      "tags": []
     },
     "output_type": "execute_result"
    }
   ],
   "source": [
    "val = e[0, 1]\n",
    "\n",
    "val"
   ]
  },
  {
   "attachments": {},
   "cell_type": "markdown",
   "metadata": {
    "colab_type": "text",
    "id": "FPYVW5rqhs02"
   },
   "source": [
    "「1 行 2 列目」を指定するのに、インデックスは `[0, 1]` でした。\n",
    "これは、NumPy の ndarray の要素は Python リストと同じく、添字が 0 から始まる**ゼロベースインデックス （zero-based index）** が採用されているためです。\n",
    "つまり、この行列の i 行 j 列目の値は、`[i - 1, j - 1]` で取り出すことができます。"
   ]
  },
  {
   "attachments": {},
   "cell_type": "markdown",
   "metadata": {
    "colab_type": "text",
    "id": "qWnR7Eurhs03"
   },
   "source": [
    "### スライスによる要素の選択\n",
    "\n",
    "NumPy の ndarray に対しても、Python のリストと同様に**スライス表記 （slicing）** を用いて選択したい要素を範囲指定することができます。\n",
    "ndarray はさらに、カンマ区切りで複数の次元に対するスライスを指定できます。"
   ]
  },
  {
   "cell_type": "code",
   "execution_count": 15,
   "metadata": {
    "colab": {
     "base_uri": "https://localhost:8080/",
     "height": 52
    },
    "colab_type": "code",
    "id": "Q0nqhCpfhs04",
    "outputId": "065d1646-ba1a-4b0c-92ef-36ea788ab8aa",
    "scrolled": true
   },
   "outputs": [
    {
     "data": {
      "text/plain": [
       "array([[0.81301269, 0.89543488, 0.98794199],\n",
       "       [0.05910526, 0.82286822, 0.80324149]])"
      ]
     },
     "execution_count": 15,
     "metadata": {
      "tags": []
     },
     "output_type": "execute_result"
    }
   ],
   "source": [
    "# 4 x 5 行列 e の真ん中の 2 x 3 = 6 個の値を取り出す\n",
    "center = e[1:3, 1:4]\n",
    "\n",
    "center"
   ]
  },
  {
   "attachments": {},
   "cell_type": "markdown",
   "metadata": {
    "colab_type": "text",
    "id": "1FUL2bOkhs09"
   },
   "source": [
    "前節最後にある `e` の出力を見返すと、ちょうど真ん中の部分の $2 \\times 3$ 個の数字が取り出せていることが分かります。\n",
    "ここで、`e` の中から `[1, 1]` の要素を起点として 2 行 3 列を取り出して作られた `center` の形を、`e` の形と比較してみましょう。"
   ]
  },
  {
   "cell_type": "code",
   "execution_count": 16,
   "metadata": {
    "colab": {
     "base_uri": "https://localhost:8080/",
     "height": 52
    },
    "colab_type": "code",
    "id": "g57LOQJbhs0_",
    "outputId": "5ad96c57-27ec-4a5e-99e0-f40747463619"
   },
   "outputs": [
    {
     "name": "stdout",
     "output_type": "stream",
     "text": [
      "Shape of e: (4, 5)\n",
      "Shape of center: (2, 3)\n"
     ]
    }
   ],
   "source": [
    "print('Shape of e:', e.shape)\n",
    "print('Shape of center:', center.shape)"
   ]
  },
  {
   "attachments": {},
   "cell_type": "markdown",
   "metadata": {
    "colab_type": "text",
    "id": "5tbJR05ehs1F"
   },
   "source": [
    "また、インデックスを指定したり、スライスを用いて取り出した ndarray の一部に対し、値を代入することもできます。"
   ]
  },
  {
   "cell_type": "code",
   "execution_count": 17,
   "metadata": {
    "colab": {
     "base_uri": "https://localhost:8080/",
     "height": 88
    },
    "colab_type": "code",
    "id": "pnJGJ0sOhs1G",
    "outputId": "5b3be8f5-918e-4aaf-c304-4b08e52a0754"
   },
   "outputs": [
    {
     "data": {
      "text/plain": [
       "array([[0.945015  , 0.43016639, 0.29548392, 0.95129474, 0.79083349],\n",
       "       [0.38302104, 0.        , 0.        , 0.        , 0.07312155],\n",
       "       [0.28104454, 0.        , 0.        , 0.        , 0.34598631],\n",
       "       [0.27901198, 0.99971565, 0.80767343, 0.8232321 , 0.53487828]])"
      ]
     },
     "execution_count": 17,
     "metadata": {
      "tags": []
     },
     "output_type": "execute_result"
    }
   ],
   "source": [
    "# 先程の真ん中の 6 個の値を 0 にする\n",
    "e[1:3, 1:4] = 0\n",
    "\n",
    "e"
   ]
  },
  {
   "attachments": {},
   "cell_type": "markdown",
   "metadata": {
    "colab_type": "text",
    "id": "7n7aJGJahs1J"
   },
   "source": [
    "### 整数配列による要素の選択\n",
    "\n",
    "ndarray の `[]` には、整数やスライスの他に、整数配列を渡すこともできます。\n",
    "整数配列とは、ここでは整数を要素とする Python リストまたは ndarray のことを指しています。\n",
    "\n",
    "具体例を示します。\n",
    "まず、$3 \\times 3$ 行列を表す `a` という ndarray を定義します。"
   ]
  },
  {
   "cell_type": "code",
   "execution_count": 18,
   "metadata": {
    "colab": {
     "base_uri": "https://localhost:8080/",
     "height": 70
    },
    "colab_type": "code",
    "id": "XxgfjK2-hs1L",
    "outputId": "83abf535-d424-4c6c-d37a-4f0b0124a25f"
   },
   "outputs": [
    {
     "data": {
      "text/plain": [
       "array([[1, 2, 3],\n",
       "       [4, 5, 6],\n",
       "       [7, 8, 9]])"
      ]
     },
     "execution_count": 18,
     "metadata": {
      "tags": []
     },
     "output_type": "execute_result"
    }
   ],
   "source": [
    "a = np.array(\n",
    "    [[1, 2, 3],\n",
    "     [4, 5, 6],\n",
    "     [7, 8, 9]]\n",
    ")\n",
    "\n",
    "a"
   ]
  },
  {
   "attachments": {},
   "cell_type": "markdown",
   "metadata": {
    "colab_type": "text",
    "id": "qjX-7iNths1R"
   },
   "source": [
    "この ndarray から、\n",
    "\n",
    "1. 1 行 2 列目：`a[0, 1]`\n",
    "2. 3 行 2 列目：`a[2, 1]`\n",
    "3. 2 行 1 列目：`a[1, 0]`\n",
    "\n",
    "の 3 つの要素を選択して並べ、形が `(3,)` であるような ndarray を作りたいとします。\n",
    "\n",
    "これは、以下のように、順に対象の要素を指定して並べて新しい ndarray にすることでももちろん実現できます。"
   ]
  },
  {
   "cell_type": "code",
   "execution_count": 19,
   "metadata": {
    "colab": {
     "base_uri": "https://localhost:8080/",
     "height": 35
    },
    "colab_type": "code",
    "id": "UvEgg_eHhs1S",
    "outputId": "3f27d554-9d09-4327-8138-4d2b5c085b16"
   },
   "outputs": [
    {
     "data": {
      "text/plain": [
       "array([2, 8, 4])"
      ]
     },
     "execution_count": 19,
     "metadata": {
      "tags": []
     },
     "output_type": "execute_result"
    }
   ],
   "source": [
    "np.array([a[0, 1], a[2, 1], a[1, 0]])"
   ]
  },
  {
   "attachments": {},
   "cell_type": "markdown",
   "metadata": {
    "colab_type": "text",
    "id": "r2aNYWNFhs1V"
   },
   "source": [
    "しかし、同じことが**選択したい行、選択したい列を、順にそれぞれリストとして与える**ことでも行えます。"
   ]
  },
  {
   "cell_type": "code",
   "execution_count": 20,
   "metadata": {
    "colab": {
     "base_uri": "https://localhost:8080/",
     "height": 35
    },
    "colab_type": "code",
    "id": "P1scHQiRhs1W",
    "outputId": "e0c1fe5d-4f63-4ba3-e3e9-8540b86f3b3e"
   },
   "outputs": [
    {
     "data": {
      "text/plain": [
       "array([2, 8, 4])"
      ]
     },
     "execution_count": 20,
     "metadata": {
      "tags": []
     },
     "output_type": "execute_result"
    }
   ],
   "source": [
    "a[[0, 2, 1], [1, 1, 0]]"
   ]
  },
  {
   "attachments": {},
   "cell_type": "markdown",
   "metadata": {
    "colab_type": "text",
    "id": "0sHruq-ohs1Z"
   },
   "source": [
    "**選択したい 3 つの値がどの行にあるか**だけに着目すると、それぞれ 1 行目、3 行目、2 行目にある要素です。  \n",
    "ゼロベースインデックスでは、それぞれ 0, 2, 1 行目です。  \n",
    "これが `a` の `[]` に与えられた 1 つ目のリスト `[0, 2, 1]` の意味です。  \n",
    "\n",
    "同様に、**列に着目**すると、ゼロベースインデックスでそれぞれ 1, 1, 0 列目の要素です。  \n",
    "これが `a` の `[]` に与えられた 2 つ目のリスト `[1, 1, 0]` の意味です。"
   ]
  },
  {
   "attachments": {},
   "cell_type": "markdown",
   "metadata": {
    "colab_type": "text",
    "id": "HDdtMWR4hs1a"
   },
   "source": [
    "## ndarray のデータ型\n",
    "\n",
    "1 つの ndarray の要素は、全て同じ型を持ちます。\n",
    "NumPy では様々なデータ型を使うことができますが、ここでは一部だけを紹介します。\n",
    "NumPy は Python リストを渡して ndarray を作る際などには、その値からデータ型を推測します。\n",
    "ndarray のデータ型は、`dtype` という属性に保存されています。"
   ]
  },
  {
   "cell_type": "code",
   "execution_count": 21,
   "metadata": {
    "colab": {
     "base_uri": "https://localhost:8080/",
     "height": 35
    },
    "colab_type": "code",
    "id": "eU6frncOhs1d",
    "outputId": "3f764b12-bb3c-4a65-89ad-159d980a2c34"
   },
   "outputs": [
    {
     "data": {
      "text/plain": [
       "dtype('int64')"
      ]
     },
     "execution_count": 21,
     "metadata": {
      "tags": []
     },
     "output_type": "execute_result"
    }
   ],
   "source": [
    "# 整数（Python の int 型）の要素をもつリストを与えた場合\n",
    "x = np.array([1, 2, 3])\n",
    "\n",
    "x.dtype"
   ]
  },
  {
   "cell_type": "code",
   "execution_count": 22,
   "metadata": {
    "colab": {
     "base_uri": "https://localhost:8080/",
     "height": 35
    },
    "colab_type": "code",
    "id": "3C4OQKq9hs1k",
    "outputId": "f46446f4-a54b-4278-846f-86b82e8c32d1"
   },
   "outputs": [
    {
     "data": {
      "text/plain": [
       "dtype('float64')"
      ]
     },
     "execution_count": 22,
     "metadata": {
      "tags": []
     },
     "output_type": "execute_result"
    }
   ],
   "source": [
    "# 浮動小数点数（Python の float 型）の要素をもつリストを与えた場合\n",
    "x = np.array([1., 2., 3.])\n",
    "\n",
    "x.dtype"
   ]
  },
  {
   "attachments": {},
   "cell_type": "markdown",
   "metadata": {
    "colab_type": "text",
    "id": "HTg_bqiuhs1o"
   },
   "source": [
    "以上のように、**Python の int 型は自動的に NumPy の int64 型**になりました。\n",
    "また、**Python の float 型は自動的に NumPy の float64 型**になりました。\n",
    "Python の int 型は NumPy の int_ 型に対応づけられており、Python の float 型は NumPy の float_ 型に対応づけられています。\n",
    "この int_ 型はプラットフォームによって int64 型と同じ場合と int32 型と同じ場合があります。\n",
    "float_ 型についても同様で、プラットフォームによって float64 型と同じ場合と float32 型と同じ場合があります。\n",
    "\n",
    "特定の型を指定して ndarray を作成するには、以下のようにします。"
   ]
  },
  {
   "cell_type": "code",
   "execution_count": 23,
   "metadata": {
    "colab": {
     "base_uri": "https://localhost:8080/",
     "height": 35
    },
    "colab_type": "code",
    "id": "3UZiigfFhs1p",
    "outputId": "c422ade7-f6dc-412f-c40f-9ee18c47685b"
   },
   "outputs": [
    {
     "data": {
      "text/plain": [
       "dtype('float32')"
      ]
     },
     "execution_count": 23,
     "metadata": {
      "tags": []
     },
     "output_type": "execute_result"
    }
   ],
   "source": [
    "x = np.array([1, 2, 3], dtype=np.float32)\n",
    "\n",
    "x.dtype"
   ]
  },
  {
   "attachments": {},
   "cell_type": "markdown",
   "metadata": {
    "colab_type": "text",
    "id": "aWMTSehbhs1s"
   },
   "source": [
    "このように、`dtype` という引数に NumPy の dtype オブジェクトを渡します。\n",
    "これは 32 ビット浮動小数点数型を指定する例です。\n",
    "同じことが、文字列で指定することによっても行えます。"
   ]
  },
  {
   "cell_type": "code",
   "execution_count": 24,
   "metadata": {
    "colab": {
     "base_uri": "https://localhost:8080/",
     "height": 35
    },
    "colab_type": "code",
    "id": "jg3-zxU2yEpd",
    "outputId": "f59a3c33-7b99-42a3-8079-46d7bdd9b28e"
   },
   "outputs": [
    {
     "data": {
      "text/plain": [
       "dtype('float32')"
      ]
     },
     "execution_count": 24,
     "metadata": {
      "tags": []
     },
     "output_type": "execute_result"
    }
   ],
   "source": [
    "x = np.array([1, 2, 3], dtype='float32')\n",
    "\n",
    "x.dtype"
   ]
  },
  {
   "attachments": {},
   "cell_type": "markdown",
   "metadata": {
    "colab_type": "text",
    "id": "UZ2hdYZ_yEph"
   },
   "source": [
    "これはさらに、以下のように短く書くこともできます。"
   ]
  },
  {
   "cell_type": "code",
   "execution_count": 25,
   "metadata": {
    "colab": {
     "base_uri": "https://localhost:8080/",
     "height": 35
    },
    "colab_type": "code",
    "id": "tnn0EQQmyEpk",
    "outputId": "84a57ee4-0b87-40c2-ccb6-c1672b71f27a"
   },
   "outputs": [
    {
     "data": {
      "text/plain": [
       "dtype('float32')"
      ]
     },
     "execution_count": 25,
     "metadata": {
      "tags": []
     },
     "output_type": "execute_result"
    }
   ],
   "source": [
    "x = np.array([1, 2, 3], dtype='f')\n",
    "\n",
    "x.dtype"
   ]
  },
  {
   "attachments": {},
   "cell_type": "markdown",
   "metadata": {
    "colab_type": "text",
    "id": "wa5IPghnyEps"
   },
   "source": [
    "一度あるデータ型で定義した配列のデータ型を別のものに変更するには、`astype` を用いて変換を行います。"
   ]
  },
  {
   "cell_type": "code",
   "execution_count": 26,
   "metadata": {
    "colab": {
     "base_uri": "https://localhost:8080/",
     "height": 35
    },
    "colab_type": "code",
    "id": "fnqEBxUMhs1t",
    "outputId": "1191035e-7a37-4a43-fbe6-70f59fe0fcc8"
   },
   "outputs": [
    {
     "data": {
      "text/plain": [
       "dtype('float64')"
      ]
     },
     "execution_count": 26,
     "metadata": {
      "tags": []
     },
     "output_type": "execute_result"
    }
   ],
   "source": [
    "x = x.astype(np.float64)\n",
    "\n",
    "x.dtype"
   ]
  },
  {
   "attachments": {},
   "cell_type": "markdown",
   "metadata": {
    "colab_type": "text",
    "id": "gQtt_qLLjeLQ"
   },
   "source": [
    "## 多次元配列を用いた計算\n",
    "\n",
    "ndarray を使って多次元配列を定義して、それらを用いていくつかの計算を行ってみましょう。\n",
    "\n",
    "ndarray として定義された多次元配列の**要素ごとの加減乗除**は、Python の数値同士の四則演算に用いられる `+`、`-`、`*`、`/` という記号を使って行えます。\n",
    "\n",
    "それでは、同じ形の配列を 2 つ定義し、それらの**要素ごとの**加減乗除を実行してみましょう。"
   ]
  },
  {
   "cell_type": "code",
   "execution_count": null,
   "metadata": {
    "colab": {},
    "colab_type": "code",
    "id": "_hpNMPZpw24s"
   },
   "outputs": [],
   "source": [
    "# 同じ形 (3 x 3) の配列を 2 つ定義する\n",
    "a = np.array([\n",
    "    [0, 1, 2],\n",
    "    [3, 4, 5],\n",
    "    [6, 7, 8]\n",
    "])\n",
    "\n",
    "b = np.array([\n",
    "    [1, 2, 3],\n",
    "    [4, 5, 6],\n",
    "    [7, 8, 9]\n",
    "])"
   ]
  },
  {
   "cell_type": "code",
   "execution_count": 28,
   "metadata": {
    "colab": {
     "base_uri": "https://localhost:8080/",
     "height": 70
    },
    "colab_type": "code",
    "id": "O5zs75ooyEp2",
    "outputId": "1965d192-50d8-4cb0-9f3c-ac294f27db4a"
   },
   "outputs": [
    {
     "data": {
      "text/plain": [
       "array([[ 1,  3,  5],\n",
       "       [ 7,  9, 11],\n",
       "       [13, 15, 17]])"
      ]
     },
     "execution_count": 28,
     "metadata": {
      "tags": []
     },
     "output_type": "execute_result"
    }
   ],
   "source": [
    "# 足し算\n",
    "c = a + b\n",
    "\n",
    "c"
   ]
  },
  {
   "cell_type": "code",
   "execution_count": 29,
   "metadata": {
    "colab": {
     "base_uri": "https://localhost:8080/",
     "height": 70
    },
    "colab_type": "code",
    "id": "c2FOyv2YyEp5",
    "outputId": "fd28f151-0281-4e4f-a787-11db1d5ceeb0"
   },
   "outputs": [
    {
     "data": {
      "text/plain": [
       "array([[-1, -1, -1],\n",
       "       [-1, -1, -1],\n",
       "       [-1, -1, -1]])"
      ]
     },
     "execution_count": 29,
     "metadata": {
      "tags": []
     },
     "output_type": "execute_result"
    }
   ],
   "source": [
    "# 引き算\n",
    "c = a - b\n",
    "\n",
    "c"
   ]
  },
  {
   "cell_type": "code",
   "execution_count": 30,
   "metadata": {
    "colab": {
     "base_uri": "https://localhost:8080/",
     "height": 70
    },
    "colab_type": "code",
    "id": "Pyiqo_ZYyEp8",
    "outputId": "436b891f-7d3b-4d30-afd2-7bca3f929955"
   },
   "outputs": [
    {
     "data": {
      "text/plain": [
       "array([[ 0,  2,  6],\n",
       "       [12, 20, 30],\n",
       "       [42, 56, 72]])"
      ]
     },
     "execution_count": 30,
     "metadata": {
      "tags": []
     },
     "output_type": "execute_result"
    }
   ],
   "source": [
    "# 掛け算\n",
    "c = a * b\n",
    "\n",
    "c"
   ]
  },
  {
   "cell_type": "code",
   "execution_count": 31,
   "metadata": {
    "colab": {
     "base_uri": "https://localhost:8080/",
     "height": 70
    },
    "colab_type": "code",
    "id": "Ut6N5zcTyEqA",
    "outputId": "6eda2f36-e116-47d0-a45c-afc344f4c968"
   },
   "outputs": [
    {
     "data": {
      "text/plain": [
       "array([[0.        , 0.5       , 0.66666667],\n",
       "       [0.75      , 0.8       , 0.83333333],\n",
       "       [0.85714286, 0.875     , 0.88888889]])"
      ]
     },
     "execution_count": 31,
     "metadata": {
      "tags": []
     },
     "output_type": "execute_result"
    }
   ],
   "source": [
    "# 割り算\n",
    "c = a / b\n",
    "\n",
    "c"
   ]
  },
  {
   "attachments": {},
   "cell_type": "markdown",
   "metadata": {
    "colab_type": "text",
    "id": "HFZIVmCwhs13"
   },
   "source": [
    "NumPy では、与えられた多次元配列に対して要素ごとに計算を行う関数が色々と用意されています。\n",
    "以下にいくつかの例を示します。"
   ]
  },
  {
   "cell_type": "code",
   "execution_count": 32,
   "metadata": {
    "colab": {
     "base_uri": "https://localhost:8080/",
     "height": 70
    },
    "colab_type": "code",
    "id": "BUaEHDrcyEqL",
    "outputId": "57186cb3-188c-4b92-b354-8839496fa1de"
   },
   "outputs": [
    {
     "data": {
      "text/plain": [
       "array([[1.        , 1.41421356, 1.73205081],\n",
       "       [2.        , 2.23606798, 2.44948974],\n",
       "       [2.64575131, 2.82842712, 3.        ]])"
      ]
     },
     "execution_count": 32,
     "metadata": {
      "tags": []
     },
     "output_type": "execute_result"
    }
   ],
   "source": [
    "# 要素ごとに平方根を計算する\n",
    "c = np.sqrt(b)\n",
    "\n",
    "c"
   ]
  },
  {
   "cell_type": "code",
   "execution_count": 33,
   "metadata": {
    "colab": {
     "base_uri": "https://localhost:8080/",
     "height": 70
    },
    "colab_type": "code",
    "id": "X9XlfvFths14",
    "outputId": "94d8138e-36b9-4b7f-fe90-fc8bce1ee4a4"
   },
   "outputs": [
    {
     "data": {
      "text/plain": [
       "array([[ 1,  4,  9],\n",
       "       [16, 25, 36],\n",
       "       [49, 64, 81]])"
      ]
     },
     "execution_count": 33,
     "metadata": {
      "tags": []
     },
     "output_type": "execute_result"
    }
   ],
   "source": [
    "# 要素ごとに値を n 乗する\n",
    "n = 2\n",
    "c = np.power(b, n)\n",
    "\n",
    "c"
   ]
  },
  {
   "attachments": {},
   "cell_type": "markdown",
   "metadata": {
    "colab_type": "text",
    "id": "XC-OB1s_hs19"
   },
   "source": [
    "要素ごとに値を n 乗する計算は、以下のようにしても書くことができます。"
   ]
  },
  {
   "cell_type": "code",
   "execution_count": 34,
   "metadata": {
    "colab": {
     "base_uri": "https://localhost:8080/",
     "height": 70
    },
    "colab_type": "code",
    "id": "7ekgNzVlhs2F",
    "outputId": "c1b1deb1-4f7c-45e3-fd02-a0319d00219a"
   },
   "outputs": [
    {
     "data": {
      "text/plain": [
       "array([[   1,   16,   81],\n",
       "       [ 256,  625, 1296],\n",
       "       [2401, 4096, 6561]])"
      ]
     },
     "execution_count": 34,
     "metadata": {
      "tags": []
     },
     "output_type": "execute_result"
    }
   ],
   "source": [
    "c ** n"
   ]
  },
  {
   "attachments": {},
   "cell_type": "markdown",
   "metadata": {},
   "source": [
    "## 直線のグラフの描画\n",
    "\n",
    "NumPy と Matplotlib を利用して、直線 $y=ax+b$ 上の点を散布図として描画してみましょう。\n",
    "まず、$x = -5, -4, \\cdots, 4, 5$ として、各 $x$ に対応する $y$ を計算します。\n",
    "ただし、傾き $a$ は 2 とし，切片 $b$ は 1 としました。"
   ]
  },
  {
   "cell_type": "code",
   "execution_count": 1,
   "metadata": {},
   "outputs": [
    {
     "name": "stdout",
     "output_type": "stream",
     "text": [
      "x:  -5, y:  -9\n",
      "x:  -4, y:  -7\n",
      "x:  -3, y:  -5\n",
      "x:  -2, y:  -3\n",
      "x:  -1, y:  -1\n",
      "x:   0, y:   1\n",
      "x:   1, y:   3\n",
      "x:   2, y:   5\n",
      "x:   3, y:   7\n",
      "x:   4, y:   9\n",
      "x:   5, y:  11\n"
     ]
    }
   ],
   "source": [
    "import numpy as np\n",
    "\n",
    "a = 2 # 傾き\n",
    "b = 1 # 切片\n",
    "\n",
    "x = np.arange(-5, 6) # -5 から 6 まで (6は含まない) の整数を並べた1次元配列\n",
    "y = a * x + b\n",
    "\n",
    "for i in range(len(x)):\n",
    "    print(f\"x: {x[i]:3}, y: {y[i]:3}\")\n"
   ]
  },
  {
   "cell_type": "markdown",
   "metadata": {},
   "source": [
    "上で生成した $x$ と $y$ の組を散布図として表示します。\n",
    "Matplotlib を利用してグラフを描画する際には、 `matplotlib.pyplot` モジュールをインポートします。\n",
    "慣習的に、`matplotlib.pylot` には `plt` という別名が与えられます。\n",
    "\n",
    "散布図を表示するためには、`plt.scatter` 関数を利用します。\n",
    "`plt.show` 関数を実行するとグラフが表示されます。"
   ]
  },
  {
   "cell_type": "code",
   "execution_count": 2,
   "metadata": {},
   "outputs": [
    {
     "data": {
      "image/png": "[encoded data removed]",
      "text/plain": [
       "<Figure size 640x480 with 1 Axes>"
      ]
     },
     "metadata": {},
     "output_type": "display_data"
    }
   ],
   "source": [
    "import matplotlib.pyplot as plt\n",
    "\n",
    "plt.scatter(x, y) # 散布図グラフを描画\n",
    "plt.show()"
   ]
  },
  {
   "attachments": {},
   "cell_type": "markdown",
   "metadata": {},
   "source": [
    "散布図ではなく、折れ線グラフとして描画することもできます。\n",
    "折れ線グラフを描画するには、`plt.scatter` のかわりに `plt.plot` を用います。"
   ]
  },
  {
   "cell_type": "code",
   "execution_count": 6,
   "metadata": {},
   "outputs": [
    {
     "data": {
      "image/png": "[encoded data removed]",
      "text/plain": [
       "<Figure size 640x480 with 1 Axes>"
      ]
     },
     "metadata": {},
     "output_type": "display_data"
    }
   ],
   "source": [
    "plt.plot(x, y)\n",
    "plt.show()"
   ]
  },
  {
   "cell_type": "markdown",
   "metadata": {},
   "source": [
    "## 2次関数のグラフの平行移動\n",
    "\n",
    "上の例では直線のグラフを描画しましたが、$y$ を計算する式を変更すれば他にも様々な関数のグラフを描くことができます。\n",
    "2次関数 $y = ax^2 + bx + c$ のグラフを描いてみましょう。"
   ]
  },
  {
   "cell_type": "code",
   "execution_count": 8,
   "metadata": {},
   "outputs": [
    {
     "data": {
      "image/png": "[encoded data removed]",
      "text/plain": [
       "<Figure size 640x480 with 1 Axes>"
      ]
     },
     "metadata": {},
     "output_type": "display_data"
    }
   ],
   "source": [
    "a = 1/2\n",
    "b = -1\n",
    "c = 1\n",
    "\n",
    "x = np.arange(-5, 6)\n",
    "y = a * x**2 + b * x + c\n",
    "\n",
    "plt.plot(x, y)\n",
    "plt.show()"
   ]
  },
  {
   "cell_type": "markdown",
   "metadata": {},
   "source": [
    "2次関数は曲線であるため、折れ線グラフとして描いたときに少しかくかくしてしまっています。\n",
    "これは、$x$ を変化させる幅をより細かくすることによって改善することができます。\n",
    "`np.arange` と似た `np.linspace` 関数を使うと、$-5$ から $5$ までの範囲を $100$ 等分した配列を作ることができます。\n",
    "これを $x$ として、再度同じ関数をプロットしてみましょう。"
   ]
  },
  {
   "cell_type": "code",
   "execution_count": 10,
   "metadata": {},
   "outputs": [
    {
     "data": {
      "image/png": "[encoded data removed]",
      "text/plain": [
       "<Figure size 640x480 with 1 Axes>"
      ]
     },
     "metadata": {},
     "output_type": "display_data"
    }
   ],
   "source": [
    "x = np.linspace(-5, 5, 100) # -5 から 5 までの範囲を 100 等分した1次元配列\n",
    "y = a * x**2 + b * x + c\n",
    "\n",
    "plt.plot(x, y)\n",
    "plt.show()"
   ]
  },
  {
   "cell_type": "markdown",
   "metadata": {},
   "source": [
    "曲線がなめらかになりました。"
   ]
  },
  {
   "cell_type": "markdown",
   "metadata": {},
   "source": [
    "関数 $y = ax^2 + b^2 + c$ の $x$ を $x - \\alpha$ に置き換えると、グラフを右に $\\alpha$ だけ平行移動させることができます\n",
    "（$\\alpha < 0$ の場合は左に平行移動します）。\n",
    "\n",
    "`plt.plot` を連続で実行することで、平行移動前後の2つのグラフを1つの図にまとめて描画してみましょう。"
   ]
  },
  {
   "cell_type": "code",
   "execution_count": 12,
   "metadata": {},
   "outputs": [
    {
     "data": {
      "image/png": "[encoded data removed]",
      "text/plain": [
       "<Figure size 640x480 with 1 Axes>"
      ]
     },
     "metadata": {},
     "output_type": "display_data"
    }
   ],
   "source": [
    "alpha = -1\n",
    "\n",
    "x = np.linspace(-5, 5, 100)\n",
    "y1 = a * x**2 + b * x + c\n",
    "y2 = a * (x - alpha) **2 + b * (x - alpha) + c\n",
    "\n",
    "plt.plot(x, y1)\n",
    "plt.plot(x, y2)\n",
    "plt.show()"
   ]
  },
  {
   "cell_type": "markdown",
   "metadata": {},
   "source": [
    "関数の $x$ を $x - \\alpha$ に置き換えるとグラフを右に平行移動させることができましたが、\n",
    "次式のように $y$ を $x - \\beta$ に置き換えるとグラフを上に $\\beta$ だけ平行移動させることができます\n",
    "（$\\beta<0$ の場合は下に平行移動）。\n",
    "\n",
    "$$\n",
    "y - \\beta = ax^2 + bx + c\n",
    "$$\n",
    "\n",
    "プログラミングのために $\\beta$ を右辺に移項して\n",
    "$$\n",
    "y = ax^2 + bx + (c + \\beta)\n",
    "$$\n",
    "として、実際にプロットしてみましょう。"
   ]
  },
  {
   "cell_type": "code",
   "execution_count": 13,
   "metadata": {},
   "outputs": [
    {
     "data": {
      "image/png": "[encoded data removed]",
      "text/plain": [
       "<Figure size 640x480 with 1 Axes>"
      ]
     },
     "metadata": {},
     "output_type": "display_data"
    }
   ],
   "source": [
    "beta = 2\n",
    "\n",
    "x = np.linspace(-5, 5, 100)\n",
    "y1 = a * x**2 + b * x + c\n",
    "y2 = a * x**2 + b * x + (c + beta)\n",
    "\n",
    "plt.plot(x, y1)\n",
    "plt.plot(x, y2)\n",
    "plt.show()"
   ]
  },
  {
   "cell_type": "markdown",
   "metadata": {},
   "source": [
    "今回は2次関数を例にグラフを縦横に平行移動させましたが、同様に $x$ や $y$ を置き換えることで、他の関数も平行移動させることができます。"
   ]
  },
  {
   "cell_type": "markdown",
   "metadata": {},
   "source": [
    "## 三角関数\n",
    "\n",
    "$xy$ 平面上の単位円周上で、点 $(1, 0)$ から反時計回りに角度 $\\theta$ だけ回転した点を $P (x, y)$ とします。\n",
    "このとき、三角関数 $\\sin{\\theta}, \\cos{\\theta}$, および $\\tan{\\theta}$ は、点 $P$ の座標を用いて以下のように定義されます。\n",
    "\n",
    "$$\n",
    "\\begin{aligned}\n",
    "    \\sin{\\theta} &= y \\\\\n",
    "    \\cos{\\theta} &= x \\\\\n",
    "    \\tan{\\theta} &= \\frac{y}{x} = \\frac{\\sin{\\theta}}{\\cos{\\theta}} \\\\\n",
    "\\end{aligned}\n",
    "$$\n"
   ]
  },
  {
   "cell_type": "markdown",
   "metadata": {},
   "source": [
    "日常生活において角度を表す際は、1周を $360 \\degree$ とする度数法を用います。\n",
    "しかし、数学の分野では、1周を $2\\pi [\\mathrm{rad}]$ （単位はラジアンと読みます）とする弧度法を用いることが一般的です。\n",
    "度数法で表された角度 $\\phi$ から弧度法で表された角度 $\\theta$ への変換は次式で行なえます。\n",
    "$$\n",
    "    \\theta [\\mathrm{rad}] = \\frac{2\\pi}{360} \\phi [\\degree]\n",
    "$$\n",
    "\n",
    "いくつかの角度に対する度数法と弧度法の対応を次の表に示します。\n",
    "| 度数法 $[\\degree]$ | $0$ | $30$ | $45$ | $60$ | $90$ | $180$ | $360$ |\n",
    "| :---- | :---: | :---: | :---: | :---: | :---: | :---: | :---: |\n",
    "| 弧度法 $[\\mathrm{rad}]$ | $0$ | $\\frac{\\pi}{6}$ | $\\frac{\\pi}{4}$ | $\\frac{\\pi}{3}$ | $\\frac{\\pi}{2}$ | $\\pi$ | $2\\pi$|"
   ]
  },
  {
   "cell_type": "markdown",
   "metadata": {},
   "source": [
    "NumPy にも三角関数の値を計算する関数が用意されていますが、引数には弧度法で表された角度を渡す必要があります。\n",
    "`np.sin` は引数として配列が渡されると、各要素ごとに $\\sin$ の値を計算します。"
   ]
  },
  {
   "cell_type": "code",
   "execution_count": 4,
   "metadata": {},
   "outputs": [
    {
     "data": {
      "image/png": "[encoded data removed]",
      "text/plain": [
       "<Figure size 640x480 with 1 Axes>"
      ]
     },
     "metadata": {},
     "output_type": "display_data"
    }
   ],
   "source": [
    "import numpy as np\n",
    "import matplotlib.pyplot as plt\n",
    "\n",
    "x = np.linspace(0, 2 * np.pi, 100) # 0 から 2π までの範囲を 100 等分した1次元配列\n",
    "y1 = np.sin(x)\n",
    "y2 = np.cos(x)\n",
    "\n",
    "plt.plot(x, y1)\n",
    "plt.plot(x, y2)\n",
    "plt.show()"
   ]
  },
  {
   "cell_type": "code",
   "execution_count": 9,
   "metadata": {},
   "outputs": [
    {
     "data": {
      "image/png": "[encoded data removed]",
      "text/plain": [
       "<Figure size 640x480 with 1 Axes>"
      ]
     },
     "metadata": {},
     "output_type": "display_data"
    }
   ],
   "source": [
    "x = np.linspace(0, 4 * np.pi, 1000) # 0 から 4π までの範囲を 1000 等分した1次元配列\n",
    "y = np.tan(x)\n",
    "threshold = 10\n",
    "y[y > threshold] = np.inf\n",
    "y[y < -threshold] = -np.inf\n",
    "\n",
    "plt.plot(x, y)\n",
    "plt.show()"
   ]
  },
  {
   "cell_type": "markdown",
   "metadata": {},
   "source": [
    "## 指数関数\n",
    "\n",
    "$$\n",
    "    y = a^x\n",
    "$$"
   ]
  },
  {
   "cell_type": "code",
   "execution_count": 4,
   "metadata": {},
   "outputs": [
    {
     "data": {
      "image/png": "[encoded data removed]",
      "text/plain": [
       "<Figure size 640x480 with 1 Axes>"
      ]
     },
     "metadata": {},
     "output_type": "display_data"
    }
   ],
   "source": [
    "x = np.linspace(-5, 5, 100) # -5 から 5 までの範囲を 100 等分した1次元配列\n",
    "a = 2\n",
    "y = a**x\n",
    "\n",
    "plt.plot(x, y)\n",
    "plt.show()"
   ]
  },
  {
   "cell_type": "markdown",
   "metadata": {},
   "source": [
    "$$\n",
    "    y = e^x = \\exp(x)\n",
    "$$"
   ]
  },
  {
   "cell_type": "code",
   "execution_count": 5,
   "metadata": {},
   "outputs": [
    {
     "data": {
      "image/png": "[encoded data removed]",
      "text/plain": [
       "<Figure size 640x480 with 1 Axes>"
      ]
     },
     "metadata": {},
     "output_type": "display_data"
    }
   ],
   "source": [
    "x = np.linspace(-5, 5, 100) # -5 から 5 までの範囲を 100 等分した1次元配列\n",
    "y = np.exp(x)\n",
    "\n",
    "plt.plot(x, y)\n",
    "plt.show()"
   ]
  },
  {
   "cell_type": "markdown",
   "metadata": {},
   "source": [
    "## 対数関数\n",
    "\n",
    "$$\n",
    "    y = \\log_a x\n",
    "$$"
   ]
  },
  {
   "cell_type": "code",
   "execution_count": 6,
   "metadata": {},
   "outputs": [
    {
     "data": {
      "image/png": "[encoded data removed]",
      "text/plain": [
       "<Figure size 640x480 with 1 Axes>"
      ]
     },
     "metadata": {},
     "output_type": "display_data"
    }
   ],
   "source": [
    "x = np.linspace(0.01, 5, 100) # -5 から 5 までの範囲を 100 等分した1次元配列\n",
    "y = np.log(x)\n",
    "\n",
    "plt.plot(x, y)\n",
    "plt.show()"
   ]
  },
  {
   "attachments": {},
   "cell_type": "markdown",
   "metadata": {
    "colab_type": "text",
    "id": "zD5qR1Dvhs2V"
   },
   "source": [
    "## ブロードキャスト\n",
    "\n",
    "行列同士の要素ごとの四則演算は、通常は行列の形が同じでなければ定義できません。\n",
    "しかし、前節の最後では $3 \\times 3$ 行列に 3 次元ベクトルを足す計算が実行できました。\n",
    "\n",
    "これが要素ごとの計算と同じように実行できる理由は、NumPy が自動的に 3 次元ベクトル `b` を 3 つ並べてできる $3 \\times 3$ 行列を想定し、`a` と同じ形に揃える操作を暗黙に行っているからです。\n",
    "この操作を、**ブロードキャスト**と呼びます。\n",
    "\n",
    "算術演算を異なる形の配列同士で行う場合、NumPy は自動的に小さい方の配列を**ブロードキャスト**し、大きい方の配列と形を合わせます。\n",
    "ただし、この自動的に行われるブロードキャストでは、行いたい算術演算が、大きい方の配列の一部に対して**繰り返し行われる**ことで実現されるため、実際に小さい方の配列のデータをコピーして大きい配列をメモリ上に作成することは可能な限り避けられます。\n",
    "また、この繰り返しの計算は NumPy の内部の C 言語によって実装されたループで行われるため、高速です。\n",
    "\n",
    "よりシンプルな例で考えてみましょう。\n",
    "以下のような配列 `a` があり、この全ての要素を 2 倍にしたいとします。"
   ]
  },
  {
   "cell_type": "code",
   "execution_count": 36,
   "metadata": {
    "colab": {
     "base_uri": "https://localhost:8080/",
     "height": 35
    },
    "colab_type": "code",
    "id": "65YCT4dzhs2W",
    "outputId": "df386959-2091-477f-9669-d9f4d72a8f80"
   },
   "outputs": [
    {
     "data": {
      "text/plain": [
       "array([1, 2, 3])"
      ]
     },
     "execution_count": 36,
     "metadata": {
      "tags": []
     },
     "output_type": "execute_result"
    }
   ],
   "source": [
    "a = np.array([1, 2, 3])\n",
    "\n",
    "a"
   ]
  },
  {
   "attachments": {},
   "cell_type": "markdown",
   "metadata": {
    "colab_type": "text",
    "id": "Zp1-yKjXhs2a"
   },
   "source": [
    "このとき、一つの方法は以下のように同じ形で要素が全て 2 である別の配列を定義し、これと要素ごとの積を計算するやり方です。"
   ]
  },
  {
   "cell_type": "code",
   "execution_count": 37,
   "metadata": {
    "colab": {
     "base_uri": "https://localhost:8080/",
     "height": 35
    },
    "colab_type": "code",
    "id": "-HXN6pyVhs2b",
    "outputId": "ffcd209d-a7c2-412e-b79c-fe6955675ff3"
   },
   "outputs": [
    {
     "data": {
      "text/plain": [
       "array([2, 4, 6])"
      ]
     },
     "execution_count": 37,
     "metadata": {
      "tags": []
     },
     "output_type": "execute_result"
    }
   ],
   "source": [
    "b = np.array([2, 2, 2])\n",
    "\n",
    "c = a * b\n",
    "\n",
    "c"
   ]
  },
  {
   "attachments": {},
   "cell_type": "markdown",
   "metadata": {
    "colab_type": "text",
    "id": "Y7XJ7T6Mhs2g"
   },
   "source": [
    "しかし、スカラの 2 をただ `a` に掛けるだけでも同じ結果が得られます。"
   ]
  },
  {
   "cell_type": "code",
   "execution_count": 38,
   "metadata": {
    "colab": {
     "base_uri": "https://localhost:8080/",
     "height": 35
    },
    "colab_type": "code",
    "id": "XUC3S8jqhs2h",
    "outputId": "a27f7d90-c84a-4339-c152-a185dfc60a42"
   },
   "outputs": [
    {
     "data": {
      "text/plain": [
       "array([2, 4, 6])"
      ]
     },
     "execution_count": 38,
     "metadata": {
      "tags": []
     },
     "output_type": "execute_result"
    }
   ],
   "source": [
    "c = a * 2\n",
    "\n",
    "c"
   ]
  },
  {
   "attachments": {},
   "cell_type": "markdown",
   "metadata": {
    "colab_type": "text",
    "id": "SLje0bp-hs2k"
   },
   "source": [
    "`* 2` という計算が、`c` の 3 つの要素の**どの要素に対する計算なのか**が明示されていないため、NumPy はこれを**全ての要素に対して行うという意味**だと解釈して、スカラの 2 を `a` の要素数 3 だけ引き伸ばしてから掛けてくれます。\n",
    "\n",
    "**形の異なる配列同士の計算がブロードキャストによって可能になるためにはルールがあります。**\n",
    "\n",
    "それは、**「2 つの配列の各次元が同じ大きさになっているか、どちらかが 1 であること」**です。\n",
    "このルールを満たさない場合、NumPy は \"ValueError: operands could not be broadcast together with shapes (1 つ目の配列の形) (2 つ目の配列の形)\" というエラーを出します。\n",
    "\n",
    "ブロードキャストされた配列の各次元のサイズ（[注釈4](#note4)）は、入力された配列のその次元のサイズの中で最大の値と同じになっています。\n",
    "入力された配列は、各次元のサイズが入力のうち大きい方のサイズと同じになるようブロードキャストされ、その拡張されたサイズで計算されます。\n",
    "\n",
    "もう少し具体例を見てみましょう。\n",
    "以下のような 2 つの配列 `a` と `b` を定義し、足します。"
   ]
  },
  {
   "cell_type": "code",
   "execution_count": 39,
   "metadata": {
    "colab": {
     "base_uri": "https://localhost:8080/",
     "height": 444
    },
    "colab_type": "code",
    "id": "bD4dr8ilhs2l",
    "outputId": "c2a409b2-2d67-4ad4-85d1-ce8ed42a03c3"
   },
   "outputs": [
    {
     "name": "stdout",
     "output_type": "stream",
     "text": [
      "a:\n",
      " [[[6 2 0]]\n",
      "\n",
      " [[1 9 7]]]\n",
      "\n",
      "a.shape: (2, 1, 3)\n",
      "\n",
      "b:\n",
      " [[6]\n",
      " [2]\n",
      " [8]]\n",
      "\n",
      "b.shape: (3, 1)\n",
      "\n",
      "a + b:\n",
      " [[[12  8  6]\n",
      "  [ 8  4  2]\n",
      "  [14 10  8]]\n",
      "\n",
      " [[ 7 15 13]\n",
      "  [ 3 11  9]\n",
      "  [ 9 17 15]]]\n",
      "\n",
      "(a + b).shape: (2, 3, 3)\n"
     ]
    }
   ],
   "source": [
    "# 0 ~ 9 の範囲の値をランダムに用いて埋められた (2, 1, 3) と (3, 1) という大きさの配列を作る\n",
    "a = np.random.randint(0, 10, (2, 1, 3))\n",
    "b = np.random.randint(0, 10, (3, 1))\n",
    "\n",
    "print('a:\\n', a)\n",
    "print('\\na.shape:', a.shape)\n",
    "print('\\nb:\\n', b)\n",
    "print('\\nb.shape:', b.shape)\n",
    "\n",
    "# 加算\n",
    "c = a + b\n",
    "\n",
    "print('\\na + b:\\n', c)\n",
    "print('\\n(a + b).shape:', c.shape)"
   ]
  },
  {
   "attachments": {},
   "cell_type": "markdown",
   "metadata": {
    "colab_type": "text",
    "id": "o90A_pvhhs2u"
   },
   "source": [
    "`a` の形は `(2, 1, 3)` で、`b` の形は `(3, 1)` でした。\n",
    "この 2 つの配列の**末尾次元 (trailing dimension)**（[注釈5](#note5)） はそれぞれ 3 と 1 なので、ルールにあった「次元が同じサイズであるか、どちらかが 1 であること」を満たしています。\n",
    "\n",
    "次に、各配列の第 2 次元に注目してみましょう。\n",
    "それぞれ 1 と 3 です。\n",
    "これもルールを満たしています。\n",
    "\n",
    "ここで、`a` は 3 次元配列ですが、`b` は 2 次元配列です。\n",
    "つまり、次元数が異なっています。\n",
    "このような場合は、`b` は**一番上の次元にサイズが 1 の次元が追加された形** `(1, 3, 1)` として扱われます。\n",
    "そして 2 つの配列の各次元ごとのサイズの最大値をとった形 `(2, 3, 3)` にブロードキャストされ、足し算が行われます。\n",
    "\n",
    "このように、もし 2 つの配列のランクが異なる場合は、次元数が小さい方の配列が大きい方と同じ次元数になるまでその形の先頭に新たな次元が追加されます。\n",
    "サイズが 1 の次元がいくつ追加されても、要素の数は変わらないことに注意してください。\n",
    "要素数（`size` 属性で取得できる値）は、各次元のサイズの掛け算になるので、1 を何度かけても値は変わらないことから、これが成り立つことが分かります。\n",
    "\n",
    "NumPy がブロードキャストのために自動的に行う新しい次元の挿入は、`[]` を使った以下の表な表記を用いることで**手動で行うこともできます。**"
   ]
  },
  {
   "cell_type": "code",
   "execution_count": 40,
   "metadata": {
    "colab": {
     "base_uri": "https://localhost:8080/",
     "height": 70
    },
    "colab_type": "code",
    "id": "6TwzCz9khs2v",
    "outputId": "b9390767-8ba0-4567-a7a7-dd5999cf4673"
   },
   "outputs": [
    {
     "name": "stdout",
     "output_type": "stream",
     "text": [
      "Original shape: (3, 1)\n",
      "Added new axis to the top: (1, 3, 1)\n",
      "Added new axis to the middle: (3, 1, 1)\n"
     ]
    }
   ],
   "source": [
    "print('Original shape:', b.shape)\n",
    "\n",
    "b_expanded = b[np.newaxis, :, :]\n",
    "\n",
    "print('Added new axis to the top:', b_expanded.shape)\n",
    "\n",
    "b_expanded2 = b[:, np.newaxis, :]\n",
    "\n",
    "print('Added new axis to the middle:', b_expanded2.shape)"
   ]
  },
  {
   "attachments": {},
   "cell_type": "markdown",
   "metadata": {
    "colab_type": "text",
    "id": "g3CSUaHAhs20"
   },
   "source": [
    "`np.newaxis` が指定された位置に、新しい次元が挿入されます。\n",
    "配列が持つ数値の数は変わっていません。\n",
    "そのため、挿入された次元のサイズは必ず 1 になります。"
   ]
  },
  {
   "cell_type": "code",
   "execution_count": 41,
   "metadata": {
    "colab": {
     "base_uri": "https://localhost:8080/",
     "height": 70
    },
    "colab_type": "code",
    "id": "eK7NmjCWhs21",
    "outputId": "cacfe9cc-76ec-4aec-ef10-d93662a75d3c"
   },
   "outputs": [
    {
     "data": {
      "text/plain": [
       "array([[6],\n",
       "       [2],\n",
       "       [8]])"
      ]
     },
     "execution_count": 41,
     "metadata": {
      "tags": []
     },
     "output_type": "execute_result"
    }
   ],
   "source": [
    "b"
   ]
  },
  {
   "cell_type": "code",
   "execution_count": 42,
   "metadata": {
    "colab": {
     "base_uri": "https://localhost:8080/",
     "height": 70
    },
    "colab_type": "code",
    "id": "wappsylzhs2_",
    "outputId": "30ed68c3-b11a-48d3-98bc-04fc0ea4fbdf"
   },
   "outputs": [
    {
     "data": {
      "text/plain": [
       "array([[[6],\n",
       "        [2],\n",
       "        [8]]])"
      ]
     },
     "execution_count": 42,
     "metadata": {
      "tags": []
     },
     "output_type": "execute_result"
    }
   ],
   "source": [
    "b_expanded"
   ]
  },
  {
   "cell_type": "code",
   "execution_count": 43,
   "metadata": {
    "colab": {
     "base_uri": "https://localhost:8080/",
     "height": 106
    },
    "colab_type": "code",
    "id": "l-IHRhU1hs3E",
    "outputId": "1b1c6f57-b8f6-421b-bb18-b254d3b4b355"
   },
   "outputs": [
    {
     "data": {
      "text/plain": [
       "array([[[6]],\n",
       "\n",
       "       [[2]],\n",
       "\n",
       "       [[8]]])"
      ]
     },
     "execution_count": 43,
     "metadata": {
      "tags": []
     },
     "output_type": "execute_result"
    }
   ],
   "source": [
    "b_expanded2"
   ]
  },
  {
   "attachments": {},
   "cell_type": "markdown",
   "metadata": {
    "colab_type": "text",
    "id": "Mv8XZb4Bhs3I"
   },
   "source": [
    "NumPy のブロードキャストは慣れるまで直感に反するように感じる場合があるかもしれません。\n",
    "しかし、使いこなすと同じ計算が Python のループを使って行うよりも高速に行えるため、ブロードキャストを理解することは非常に重要です。\n",
    "一つ具体例を見てみます。\n",
    "\n",
    "$5 \\times 5$ 行列 `a` に、3 次元ベクトル `b` を足します。\n",
    "まず、`a`、`b` および結果を格納する配列 `c` を定義します。"
   ]
  },
  {
   "cell_type": "code",
   "execution_count": 44,
   "metadata": {
    "colab": {},
    "colab_type": "code",
    "id": "KW3-2Gz3hs3J"
   },
   "outputs": [],
   "source": [
    "a = np.array([\n",
    "    [0, 1, 2, 1, 0],\n",
    "    [3, 4, 5, 4, 3],\n",
    "    [6, 7, 8, 7, 6],\n",
    "    [3, 4, 5, 4, 4],\n",
    "    [0, 1, 2, 1, 0]\n",
    "])\n",
    "\n",
    "b = np.array([1, 2, 3, 4, 5])\n",
    "\n",
    "# 結果を格納する配列を先に作る\n",
    "c = np.empty((5, 5))"
   ]
  },
  {
   "attachments": {},
   "cell_type": "markdown",
   "metadata": {
    "colab_type": "text",
    "id": "CaPTRYq1hs3L"
   },
   "source": [
    "`%%timeit` という Jupyter Notebook で使用できるそのセルの実行時間を計測するためのマジックを使って、`a` の各行（1 次元目）に `b` の値を足していく計算を Python のループを使って 1 行ずつ処理していくコードの実行時間を測ってみます。"
   ]
  },
  {
   "cell_type": "code",
   "execution_count": 45,
   "metadata": {
    "colab": {
     "base_uri": "https://localhost:8080/",
     "height": 52
    },
    "colab_type": "code",
    "id": "aTJ5owYUhs3M",
    "outputId": "91ad0294-e6ba-4b39-d536-a5563b1bd612"
   },
   "outputs": [
    {
     "name": "stdout",
     "output_type": "stream",
     "text": [
      "The slowest run took 90.12 times longer than the fastest. This could mean that an intermediate result is being cached.\n",
      "100000 loops, best of 3: 7.44 µs per loop\n"
     ]
    }
   ],
   "source": [
    "%%timeit\n",
    "for i in range(a.shape[0]):\n",
    "    c[i, :] = a[i, :] + b"
   ]
  },
  {
   "cell_type": "code",
   "execution_count": 46,
   "metadata": {
    "colab": {
     "base_uri": "https://localhost:8080/",
     "height": 106
    },
    "colab_type": "code",
    "id": "-6z4EGzXhs3Q",
    "outputId": "ea6f591f-4841-45b6-f460-7bd7f9a032c7"
   },
   "outputs": [
    {
     "data": {
      "text/plain": [
       "array([[ 1.,  3.,  5.,  5.,  5.],\n",
       "       [ 4.,  6.,  8.,  8.,  8.],\n",
       "       [ 7.,  9., 11., 11., 11.],\n",
       "       [ 4.,  6.,  8.,  8.,  9.],\n",
       "       [ 1.,  3.,  5.,  5.,  5.]])"
      ]
     },
     "execution_count": 46,
     "metadata": {
      "tags": []
     },
     "output_type": "execute_result"
    }
   ],
   "source": [
    "c"
   ]
  },
  {
   "attachments": {},
   "cell_type": "markdown",
   "metadata": {
    "colab_type": "text",
    "id": "3KXentjEhs3T"
   },
   "source": [
    "次に、NumPy のブロードキャストを活用した方法で同じ計算を行ってみます。"
   ]
  },
  {
   "cell_type": "code",
   "execution_count": 47,
   "metadata": {
    "colab": {
     "base_uri": "https://localhost:8080/",
     "height": 52
    },
    "colab_type": "code",
    "id": "pCgJcwt7hs3T",
    "outputId": "5af58db9-d332-4d80-ee1c-938df607a7e6"
   },
   "outputs": [
    {
     "name": "stdout",
     "output_type": "stream",
     "text": [
      "The slowest run took 32.88 times longer than the fastest. This could mean that an intermediate result is being cached.\n",
      "1000000 loops, best of 3: 1.13 µs per loop\n"
     ]
    }
   ],
   "source": [
    "%%timeit\n",
    "c = a + b"
   ]
  },
  {
   "cell_type": "code",
   "execution_count": 48,
   "metadata": {
    "colab": {
     "base_uri": "https://localhost:8080/",
     "height": 106
    },
    "colab_type": "code",
    "id": "EAetPXrphs3Z",
    "outputId": "8d13e5ef-e68a-4bcd-d507-0086653a78ff"
   },
   "outputs": [
    {
     "data": {
      "text/plain": [
       "array([[ 1.,  3.,  5.,  5.,  5.],\n",
       "       [ 4.,  6.,  8.,  8.,  8.],\n",
       "       [ 7.,  9., 11., 11., 11.],\n",
       "       [ 4.,  6.,  8.,  8.,  9.],\n",
       "       [ 1.,  3.,  5.,  5.,  5.]])"
      ]
     },
     "execution_count": 48,
     "metadata": {
      "tags": []
     },
     "output_type": "execute_result"
    }
   ],
   "source": [
    "c"
   ]
  },
  {
   "attachments": {},
   "cell_type": "markdown",
   "metadata": {
    "colab_type": "text",
    "id": "USEUvvcChs3c"
   },
   "source": [
    "計算結果は当然同じになります。\n",
    "しかし、実行時間が数倍短くなっています。\n",
    "\n",
    "このように、ブロードキャストを理解して活用することで、記述が簡単になるだけでなく、実行速度という点においても有利になります。"
   ]
  },
  {
   "attachments": {},
   "cell_type": "markdown",
   "metadata": {
    "colab_type": "text",
    "id": "4SH7NONRpfO1"
   },
   "source": [
    "## 基本的な統計量の求め方\n",
    "\n",
    "本節では、多次元配列に含まれる値の平均・分散・標準偏差・最大値・最小値といった統計値を計算する方法を紹介します。\n",
    "$8 \\times 10$ の行列を作成し、この中に含まれる値全体に渡るこれらの統計値を計算してみましょう。"
   ]
  },
  {
   "cell_type": "code",
   "execution_count": 53,
   "metadata": {
    "colab": {
     "base_uri": "https://localhost:8080/",
     "height": 159
    },
    "colab_type": "code",
    "id": "QtRVfBYahs3w",
    "outputId": "abeeb50a-9f79-43c4-ab98-c754885dbda9"
   },
   "outputs": [
    {
     "data": {
      "text/plain": [
       "array([[3, 8, 3, 3, 0, 7, 0, 8, 7, 4],\n",
       "       [7, 0, 8, 4, 3, 1, 7, 7, 4, 3],\n",
       "       [7, 4, 5, 5, 9, 5, 2, 4, 5, 2],\n",
       "       [4, 3, 6, 8, 0, 1, 5, 8, 4, 9],\n",
       "       [1, 8, 1, 0, 6, 7, 1, 2, 8, 3],\n",
       "       [8, 6, 0, 8, 0, 8, 6, 4, 8, 4],\n",
       "       [6, 7, 5, 5, 7, 2, 2, 8, 4, 8],\n",
       "       [4, 4, 2, 3, 8, 8, 1, 6, 1, 9]])"
      ]
     },
     "execution_count": 53,
     "metadata": {
      "tags": []
     },
     "output_type": "execute_result"
    }
   ],
   "source": [
    "x = np.random.randint(0, 10, (8, 10))\n",
    "\n",
    "x"
   ]
  },
  {
   "cell_type": "code",
   "execution_count": 54,
   "metadata": {
    "colab": {
     "base_uri": "https://localhost:8080/",
     "height": 35
    },
    "colab_type": "code",
    "id": "Vrkpn1d4qBNF",
    "outputId": "f0f3154b-bf1f-4acc-d14d-9b1bd1dde7b4"
   },
   "outputs": [
    {
     "data": {
      "text/plain": [
       "4.65"
      ]
     },
     "execution_count": 54,
     "metadata": {
      "tags": []
     },
     "output_type": "execute_result"
    }
   ],
   "source": [
    "# 平均値\n",
    "x.mean()"
   ]
  },
  {
   "cell_type": "code",
   "execution_count": 55,
   "metadata": {
    "colab": {
     "base_uri": "https://localhost:8080/",
     "height": 35
    },
    "colab_type": "code",
    "id": "Y_50qftbhs34",
    "outputId": "f0a8f5db-8c8e-465a-fd5c-4f788c0aae14"
   },
   "outputs": [
    {
     "data": {
      "text/plain": [
       "7.5025"
      ]
     },
     "execution_count": 55,
     "metadata": {
      "tags": []
     },
     "output_type": "execute_result"
    }
   ],
   "source": [
    "# 分散\n",
    "x.var()"
   ]
  },
  {
   "cell_type": "code",
   "execution_count": 56,
   "metadata": {
    "colab": {
     "base_uri": "https://localhost:8080/",
     "height": 35
    },
    "colab_type": "code",
    "id": "OwpUSNzeqMLq",
    "outputId": "f8abd453-55cf-4465-cd41-7c8d94982389"
   },
   "outputs": [
    {
     "data": {
      "text/plain": [
       "2.7390691849604676"
      ]
     },
     "execution_count": 56,
     "metadata": {
      "tags": []
     },
     "output_type": "execute_result"
    }
   ],
   "source": [
    "# 標準偏差\n",
    "x.std()"
   ]
  },
  {
   "cell_type": "code",
   "execution_count": 57,
   "metadata": {
    "colab": {
     "base_uri": "https://localhost:8080/",
     "height": 35
    },
    "colab_type": "code",
    "id": "xw_9lddYqcHF",
    "outputId": "5230bc25-d738-4220-9c83-f73dbd067765"
   },
   "outputs": [
    {
     "data": {
      "text/plain": [
       "9"
      ]
     },
     "execution_count": 57,
     "metadata": {
      "tags": []
     },
     "output_type": "execute_result"
    }
   ],
   "source": [
    "# 最大値\n",
    "x.max()"
   ]
  },
  {
   "cell_type": "code",
   "execution_count": 58,
   "metadata": {
    "colab": {
     "base_uri": "https://localhost:8080/",
     "height": 35
    },
    "colab_type": "code",
    "id": "zls9oBfsqfJn",
    "outputId": "873c3f93-0116-42f7-df85-4b50bce5b762"
   },
   "outputs": [
    {
     "data": {
      "text/plain": [
       "0"
      ]
     },
     "execution_count": 58,
     "metadata": {
      "tags": []
     },
     "output_type": "execute_result"
    }
   ],
   "source": [
    "# 最小値\n",
    "x.min()"
   ]
  },
  {
   "attachments": {},
   "cell_type": "markdown",
   "metadata": {
    "colab_type": "text",
    "id": "wLLCGMeLhs4I"
   },
   "source": [
    "ここで、`x` は 2 次元配列なので、各次元に沿ったこれらの統計値の計算も行えます。\n",
    "例えば、最後の次元内だけで平均をとると、8 個の平均値が得られるはずです。\n",
    "平均を計算したい軸（何次元目に沿って計算するか）を `axis` という引数に指定します。"
   ]
  },
  {
   "cell_type": "code",
   "execution_count": 59,
   "metadata": {
    "colab": {
     "base_uri": "https://localhost:8080/",
     "height": 35
    },
    "colab_type": "code",
    "id": "uvfzeCY3hs4I",
    "outputId": "b68937c7-a415-42a4-b7e5-1f6b79df82de"
   },
   "outputs": [
    {
     "data": {
      "text/plain": [
       "array([4.3, 4.4, 4.8, 4.8, 3.7, 5.2, 5.4, 4.6])"
      ]
     },
     "execution_count": 59,
     "metadata": {
      "tags": []
     },
     "output_type": "execute_result"
    }
   ],
   "source": [
    "x.mean(axis=1)"
   ]
  },
  {
   "attachments": {},
   "cell_type": "markdown",
   "metadata": {
    "colab_type": "text",
    "id": "4be3BgZ6hs4M"
   },
   "source": [
    "これは、以下のように 1 次元目の値の平均を計算していったものを並べているのと同じことです。\n",
    "（ゼロベースインデックスで考えています。`x` の形は `(8, 10)` なので、0 次元目のサイズが 8、1 次元目のサイズが 10 です。）"
   ]
  },
  {
   "cell_type": "code",
   "execution_count": 60,
   "metadata": {
    "colab": {
     "base_uri": "https://localhost:8080/",
     "height": 35
    },
    "colab_type": "code",
    "id": "sjqqYnSths4N",
    "outputId": "898b5fbd-4e31-4717-8f0b-d5373f214c80"
   },
   "outputs": [
    {
     "data": {
      "text/plain": [
       "array([4.3, 4.4, 4.8, 4.8, 3.7, 5.2, 5.4, 4.6])"
      ]
     },
     "execution_count": 60,
     "metadata": {
      "tags": []
     },
     "output_type": "execute_result"
    }
   ],
   "source": [
    "np.array([\n",
    "    x[0, :].mean(),\n",
    "    x[1, :].mean(),\n",
    "    x[2, :].mean(),\n",
    "    x[3, :].mean(),\n",
    "    x[4, :].mean(),\n",
    "    x[5, :].mean(),\n",
    "    x[6, :].mean(),\n",
    "    x[7, :].mean(),\n",
    "])"
   ]
  },
  {
   "attachments": {},
   "cell_type": "markdown",
   "metadata": {
    "colab_type": "text",
    "id": "SxZkwFz8hs45"
   },
   "source": [
    "数式を NumPy による配列の計算に落とし込むことに慣れていくには少し時間がかかりますが、慣れると少ない量のコードで記述できるだけでなく、高速に計算が行なえるため、大きな恩恵があります。"
   ]
  },
  {
   "attachments": {},
   "cell_type": "markdown",
   "metadata": {
    "colab_type": "text",
    "id": "ky_Jm7KjyEsx"
   },
   "source": [
    "<hr />\n",
    "\n",
    "<div class=\"alert alert-info\">\n",
    "**注釈 1**\n",
    "\n",
    "ライブラリとは、汎用性の高い複数の関数やクラスなどを再利用可能な形でひとまとまりにしたもので、Python の世界では**パッケージ**とも呼ばれます。また、Python で関数やクラスの定義、文などが書かれたファイルのことを**モジュール**と呼び、パッケージはモジュールが集まったものです。\n",
    "\n",
    "[▲上へ戻る](#ref_note1)\n",
    "</div>\n",
    "\n",
    "<div class=\"alert alert-info\">\n",
    "**注釈 2**\n",
    "\n",
    "NumPy には matrix というクラスも存在しますが、本チュートリアルでは基本的に多次元配列を表す ndarray をベクトルや行列を表すために用います。\n",
    "\n",
    "[▲上へ戻る](#ref_note2)\n",
    "</div>\n",
    "\n",
    "<div class=\"alert alert-info\">\n",
    "**注釈 3**\n",
    "\n",
    "これは、その多次元配列が表すテンソルの**階数（rank、以下ランク）**と対応します。\n",
    "\n",
    "[▲上へ戻る](#ref_note3)\n",
    "</div>\n",
    "\n",
    "<div class=\"alert alert-info\">\n",
    "**注釈 4**\n",
    "    \n",
    "「次元のサイズ」と言った場合はその次元の大きさを意味し、配列の `size` 属性とは異なるものを指しています。\n",
    "\n",
    "[▲上へ戻る](#ref_note4)\n",
    "</div>\n",
    "\n",
    "<div class=\"alert alert-info\">\n",
    "**注釈 5**\n",
    "    \n",
    "末尾次元（trailing dimension）とは、その配列の形を表すタプルの一番最後の値のことを指します。\n",
    "\n",
    "[▲上へ戻る](#ref_note5)\n",
    "</div>"
   ]
  }
 ],
 "metadata": {
  "colab": {
   "collapsed_sections": [],
   "name": "Chainer Tutorials : 08_Introduction_to_NumPy.ipynb",
   "provenance": [],
   "version": "0.3.2"
  },
  "kernelspec": {
   "display_name": "Python 3",
   "language": "python",
   "name": "python3"
  },
  "language_info": {
   "codemirror_mode": {
    "name": "ipython",
    "version": 3
   },
   "file_extension": ".py",
   "mimetype": "text/x-python",
   "name": "python",
   "nbconvert_exporter": "python",
   "pygments_lexer": "ipython3",
   "version": "3.10.11"
  }
 },
 "nbformat": 4,
 "nbformat_minor": 1
}
